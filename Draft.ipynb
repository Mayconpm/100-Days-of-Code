{
 "cells": [
  {
   "cell_type": "code",
   "execution_count": 71,
   "metadata": {},
   "outputs": [],
   "source": [
    "from datetime import datetime\n",
    "from dateutil import tz\n",
    "import requests\n",
    "\n",
    "now = datetime.now()\n",
    "date_time = now.strftime(\"%Y-%m-%d\")\n",
    "\n",
    "LATITUDE = -22.267908349563456\n",
    "LONGITUDE = -42.532616977283155\n",
    "parameters = {\"lat\": LATITUDE, \"lng\": LONGITUDE, \"formatted\": 0, \"date\": date_time}\n",
    "response = requests.get(\"https://api.sunrise-sunset.org/json\", params=parameters)\n",
    "response.raise_for_status()\n",
    "data = response.json()\n",
    "\n",
    "to_zone = tz.gettz(\"Brazil/São Paulo\")\n",
    "\n",
    "sunrise = data[\"results\"][\"sunrise\"]\n",
    "sunset = data[\"results\"][\"sunset\"]\n",
    "\n",
    "sunrise = datetime.fromisoformat(sunrise).astimezone(to_zone).replace(tzinfo=None)\n",
    "\n",
    "sunset = datetime.fromisoformat(sunset).astimezone(to_zone).replace(tzinfo=None)\n"
   ]
  },
  {
   "cell_type": "code",
   "execution_count": 69,
   "metadata": {},
   "outputs": [],
   "source": [
    "from dateutil import tz\n",
    "to_zone = tz.gettz('Brazil/São Paulo')\n",
    "\n",
    "sunrise = data[\"results\"]['sunrise']\n",
    "sunset = data[\"results\"]['sunset']\n",
    "\n",
    "sunrise = datetime.fromisoformat(sunrise).astimezone(to_zone).replace(tzinfo=None)\n",
    "\n",
    "sunset = datetime.fromisoformat(sunset).astimezone(to_zone).replace(tzinfo=None)"
   ]
  },
  {
   "cell_type": "code",
   "execution_count": 70,
   "metadata": {},
   "outputs": [
    {
     "data": {
      "text/plain": [
       "True"
      ]
     },
     "execution_count": 70,
     "metadata": {},
     "output_type": "execute_result"
    }
   ],
   "source": [
    "now> sunset"
   ]
  },
  {
   "cell_type": "code",
   "execution_count": 15,
   "metadata": {},
   "outputs": [],
   "source": []
  }
 ],
 "metadata": {
  "kernelspec": {
   "display_name": "100-Days-of-Code",
   "language": "python",
   "name": "python3"
  },
  "language_info": {
   "codemirror_mode": {
    "name": "ipython",
    "version": 3
   },
   "file_extension": ".py",
   "mimetype": "text/x-python",
   "name": "python",
   "nbconvert_exporter": "python",
   "pygments_lexer": "ipython3",
   "version": "3.11.4"
  },
  "orig_nbformat": 4
 },
 "nbformat": 4,
 "nbformat_minor": 2
}
